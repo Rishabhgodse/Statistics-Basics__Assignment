{
  "nbformat": 4,
  "nbformat_minor": 0,
  "metadata": {
    "colab": {
      "provenance": []
    },
    "kernelspec": {
      "name": "python3",
      "display_name": "Python 3"
    },
    "language_info": {
      "name": "python"
    }
  },
  "cells": [
    {
      "cell_type": "code",
      "execution_count": null,
      "metadata": {
        "id": "JoeB_s6fqu9l"
      },
      "outputs": [],
      "source": [
        "#  Explain the different types of data (qualitative and quantitative) and provide examples of each. Discuss nominal, ordinal, interval, and ratio scales."
      ]
    },
    {
      "cell_type": "markdown",
      "source": [
        "Qualitative Data (Categorical): This data represents categories or labels that cannot be measured numerically.\n",
        "Nominal Data: Categories without any inherent order (e.g., Gender, Nationality).\n",
        "Ordinal Data: Categories with a meaningful order but no defined intervals (e.g., Education levels: High School, Bachelor's, Master's).\n",
        "Quantitative Data (Numerical): Data that can be measured and expressed numerically.\n",
        "Discrete Data: Can only take specific values (e.g., number of children).\n",
        "Continuous Data: Can take any value within a given range (e.g., height, weight).\n",
        "Code:\n",
        "python\n",
        "\n",
        "import pandas as pd\n",
        "\n",
        "# Example data\n",
        "data = pd.DataFrame({\n",
        "    'Category': ['Red', 'Blue', 'Green', 'Red', 'Green'],\n",
        "    'Age': [23, 45, 34, 25, 28]\n",
        "})\n",
        "\n",
        "# Nominal data (Category)\n",
        "nominal_data = data['Category'].mode()\n",
        "\n",
        "# Quantitative data (Age)\n",
        "quantitative_data = data['Age'].mean()\n",
        "\n",
        "print(f\"Nominal Data (Most Frequent Category): {nominal_data}\")\n",
        "print(f\"Mean of Quantitative Data (Age): {quantitative_data}\")"
      ],
      "metadata": {
        "id": "dazSuSTovT9d"
      }
    },
    {
      "cell_type": "code",
      "source": [
        "#  What are the measures of central tendency, and when should you use each? Discuss the mean, median, and mode with examples and situations where each is appropriate."
      ],
      "metadata": {
        "id": "lZRzYAVevbTo"
      },
      "execution_count": null,
      "outputs": []
    },
    {
      "cell_type": "markdown",
      "source": [
        " Measures of Central Tendency: Mean, Median, and Mode\n",
        "\n",
        "Mean: The sum of all values divided by the number of values.\n",
        "Use the mean when the data is symmetrically distributed with no outliers.\n",
        "Median: The middle value in a sorted dataset.\n",
        "Use the median when the data is skewed or has outliers.\n",
        "Mode: The most frequent value in the dataset.\n",
        "Use the mode for categorical data or identifying the most common value.\n",
        "Code:\n",
        "python\n",
        "\n",
        "import numpy as np\n",
        "import pandas as pd\n",
        "\n",
        "# Example dataset\n",
        "data = [1, 2, 2, 3, 4, 5, 6, 6, 6, 7]\n",
        "\n",
        "# Mean\n",
        "mean_value = np.mean(data)\n",
        "\n",
        "# Median\n",
        "median_value = np.median(data)\n",
        "\n",
        "# Mode\n",
        "mode_value = pd.Series(data).mode()\n",
        "\n",
        "print(f\"Mean: {mean_value}, Median: {median_value}, Mode: {mode_value[0]}\")"
      ],
      "metadata": {
        "id": "QynhHrSwwM1U"
      }
    },
    {
      "cell_type": "code",
      "source": [
        "# Explain the concept of dispersion. How do variance and standard deviation measure the spread of data"
      ],
      "metadata": {
        "id": "UjOQW18-wUNq"
      },
      "execution_count": null,
      "outputs": []
    },
    {
      "cell_type": "markdown",
      "source": [
        "Dispersion: Variance and Standard Deviation\n",
        "\n",
        "Variance: Measures the average squared deviation of each data point from the mean.\n",
        "Formula:\n",
        "Variance\n",
        "=\n",
        "1\n",
        "𝑛\n",
        "∑\n",
        "(\n",
        "𝑋\n",
        "𝑖\n",
        "−\n",
        "𝜇\n",
        ")\n",
        "2\n",
        "Variance=\n",
        "n\n",
        "1\n",
        "​\n",
        " ∑(X\n",
        "i\n",
        "​\n",
        " −μ)\n",
        "2\n",
        "\n",
        "Standard Deviation: The square root of variance, providing a more interpretable measure of spread.\n",
        "Formula:\n",
        "Standard Deviation\n",
        "=\n",
        "Variance\n",
        "Standard Deviation=\n",
        "Variance\n",
        "​\n",
        "\n",
        "\n",
        "# Variance and Standard Deviation calculation\n",
        "variance_value = np.var(data)\n",
        "std_deviation_value = np.std(data)\n",
        "\n",
        "print(f\"Variance: {variance_value}, Standard Deviation: {std_deviation_value}\")"
      ],
      "metadata": {
        "id": "wYW5zapGwfJv"
      }
    },
    {
      "cell_type": "code",
      "source": [
        "# What is a box plot, and what can it tell you about the distribution of data?"
      ],
      "metadata": {
        "id": "sgCmvBPhwna4"
      },
      "execution_count": null,
      "outputs": []
    },
    {
      "cell_type": "markdown",
      "source": [
        " Box Plot: Distribution of Data\n",
        "\n",
        "A box plot visually represents the distribution of a dataset. It shows:\n",
        "\n",
        "Median (central line inside the box).\n",
        "Interquartile range (IQR) (the length of the box).\n",
        "Outliers (points outside the \"whiskers\").\n",
        "\n",
        "import matplotlib.pyplot as plt\n",
        "\n",
        "# Example dataset\n",
        "data = [1, 2, 3, 4, 5, 6, 7, 8, 9, 10]\n",
        "\n",
        "# Creating box plot\n",
        "plt.boxplot(data)\n",
        "plt.title(\"Box Plot\")\n",
        "plt.show()"
      ],
      "metadata": {
        "id": "LfFvQLmywwWm"
      }
    },
    {
      "cell_type": "code",
      "source": [
        "#  Discuss the role of random sampling in making inferences about populations."
      ],
      "metadata": {
        "id": "-a43htN8w4Ag"
      },
      "execution_count": null,
      "outputs": []
    },
    {
      "cell_type": "markdown",
      "source": [
        "Random Sampling and Inferences\n",
        "\n",
        "Random sampling is the process of selecting a sample from a population such that each individual has an equal chance of being selected. This allows us to make inferences about the population.\n",
        "\n",
        "\n",
        "import numpy as np\n",
        "\n",
        "# Simulating a population\n",
        "population = np.random.randint(1, 100, size=1000)\n",
        "\n",
        "# Random sample of 100 from the population\n",
        "sample = np.random.choice(population, size=100)\n",
        "\n",
        "# Mean of the sample\n",
        "sample_mean = np.mean(sample)\n",
        "\n",
        "print(f\"Sample Mean: {sample_mean}\")"
      ],
      "metadata": {
        "id": "wOx7PqwsxH1c"
      }
    },
    {
      "cell_type": "code",
      "source": [
        "# Explain the concept of skewness and its types. How does skewness affect the interpretation of data?"
      ],
      "metadata": {
        "id": "yjUZU0E0xQe3"
      },
      "execution_count": null,
      "outputs": []
    },
    {
      "cell_type": "markdown",
      "source": [
        " Skewness and Its Types\n",
        "\n",
        "Positive Skew (Right Skew): The right tail of the distribution is longer than the left.\n",
        "Negative Skew (Left Skew): The left tail is longer than the right.\n",
        "Skewness affects the interpretation because the mean may be heavily influenced by extreme values, making it different from the median.\n",
        "\n",
        "\n",
        "from scipy.stats import skew\n",
        "\n",
        "# Example data with positive skew\n",
        "data_skewed = [1, 2, 2, 3, 10]\n",
        "\n",
        "# Calculating skewness\n",
        "skewness_value = skew(data_skewed)\n",
        "\n",
        "print(f\"Skewness: {skewness_value}\")"
      ],
      "metadata": {
        "id": "ST7KdG85xswf"
      }
    },
    {
      "cell_type": "code",
      "source": [
        "#  What is the interquartile range (IQR), and how is it used to detect outliers?"
      ],
      "metadata": {
        "id": "XWpr3W12xz_n"
      },
      "execution_count": null,
      "outputs": []
    },
    {
      "cell_type": "markdown",
      "source": [
        "Interquartile Range (IQR) and Outliers\n",
        "\n",
        "The IQR is the range between the first (Q1) and third (Q3) quartiles. Outliers are defined as values below\n",
        "𝑄\n",
        "1\n",
        "−\n",
        "1.5\n",
        "×\n",
        "𝐼\n",
        "𝑄\n",
        "𝑅\n",
        "Q1−1.5×IQR or above\n",
        "𝑄\n",
        "3\n",
        "+\n",
        "1.5\n",
        "×\n",
        "𝐼\n",
        "𝑄\n",
        "𝑅\n",
        "Q3+1.5×IQR.\n",
        "\n",
        "\n",
        "# Calculate IQR\n",
        "Q1 = np.percentile(data, 25)\n",
        "Q3 = np.percentile(data, 75)\n",
        "IQR = Q3 - Q1\n",
        "\n",
        "# Detect outliers\n",
        "lower_bound = Q1 - 1.5 * IQR\n",
        "upper_bound = Q3 + 1.5 * IQR\n",
        "outliers = [x for x in data if x < lower_bound or x > upper_bound]\n",
        "\n",
        "print(f\"IQR: {IQR}, Outliers: {outliers}\")"
      ],
      "metadata": {
        "id": "V01tlEXNycyg"
      }
    },
    {
      "cell_type": "code",
      "source": [
        "# Discuss the conditions under which the binomial distribution is used"
      ],
      "metadata": {
        "id": "-G7KPy3Myi-_"
      },
      "execution_count": null,
      "outputs": []
    },
    {
      "cell_type": "markdown",
      "source": [
        " Binomial Distribution\n",
        "\n",
        "The binomial distribution describes the probability of a certain number of successes in a fixed number of trials with two possible outcomes (success or failure). It's used when:\n",
        "\n",
        "Each trial is independent.\n",
        "The probability of success is constant across trials.\n",
        "\n",
        "from scipy.stats import binom\n",
        "\n",
        "# Parameters: n = 10 trials, p = 0.5 probability of success\n",
        "n = 10\n",
        "p = 0.5\n",
        "\n",
        "# Probability of getting exactly 5 successes\n",
        "probability = binom.pmf(5, n, p)\n",
        "\n",
        "print(f\"Probability of 5 successes: {probability}\")"
      ],
      "metadata": {
        "id": "GFvnEodlzFcV"
      }
    },
    {
      "cell_type": "code",
      "source": [
        "# Explain the properties of the normal distribution and the empirical rule (68-95-99.7 rule)."
      ],
      "metadata": {
        "id": "rLoWhclSz8pr"
      },
      "execution_count": null,
      "outputs": []
    },
    {
      "cell_type": "markdown",
      "source": [
        "Normal Distribution and Empirical Rule\n",
        "\n",
        "The normal distribution is a symmetric, bell-shaped curve. The Empirical Rule (68-95-99.7 rule) states that:\n",
        "\n",
        "68% of data lies within one standard deviation of the mean.\n",
        "95% lies within two standard deviations.\n",
        "99.7% lies within three standard deviations.\n",
        "\n",
        "import matplotlib.pyplot as plt\n",
        "import numpy as np\n",
        "\n",
        "# Generating a normal distribution\n",
        "data_normal = np.random.normal(loc=0, scale=1, size=1000)\n",
        "\n",
        "# Plotting the histogram\n",
        "plt.hist(data_normal, bins=30, density=True)\n",
        "plt.title(\"Normal Distribution\")\n",
        "plt.show()\n",
        "\n",
        "# Checking the Empirical Rule\n",
        "mean_value = np.mean(data_normal)\n",
        "std_dev_value = np.std(data_normal)\n",
        "\n",
        "within_one_std = len([x for x in data_normal if mean_value - std_dev_value <= x <= mean_value + std_dev_value]) / len(data_normal)\n",
        "within_two_std = len([x for x in data_normal if mean_value - 2*std_dev_value <= x <= mean_value + 2*std_dev_value]) / len(data_normal)\n",
        "\n",
        "print(f\"Percentage within 1 std dev: {within_one_std*100}%\")\n",
        "print(f\"Percentage within 2 std dev: {within_two_std*100}%\")"
      ],
      "metadata": {
        "id": "kxbnNeWp0B-B"
      }
    },
    {
      "cell_type": "code",
      "source": [
        "# Provide a real-life example of a Poisson process and calculate the probability for a specific event."
      ],
      "metadata": {
        "id": "35wYR_g50Ipn"
      },
      "execution_count": null,
      "outputs": []
    },
    {
      "cell_type": "markdown",
      "source": [
        "Poisson Process Example\n",
        "\n",
        "The Poisson distribution models the number of events occurring in a fixed interval of time or space, assuming the events happen independently and at a constant rate.\n",
        "\n",
        "\n",
        "from scipy.stats import poisson\n",
        "\n",
        "# Poisson distribution for lambda=3 (average events per interval)\n",
        "lambda_value = 3\n",
        "k = 2  # Number of events\n",
        "\n",
        "# Probability of exactly 2 events\n",
        "probability = poisson.pmf(k, lambda_value)\n",
        "\n",
        "print(f\"Probability of 2 events: {probability}\")"
      ],
      "metadata": {
        "id": "VyS3cNWk0OsZ"
      }
    },
    {
      "cell_type": "code",
      "source": [
        "# Explain what a random variable is and differentiate between discrete and continuous random variables."
      ],
      "metadata": {
        "id": "4m0H27bI0Up-"
      },
      "execution_count": null,
      "outputs": []
    },
    {
      "cell_type": "markdown",
      "source": [
        "Random Variables: Discrete vs. Continuous\n",
        "\n",
        "Discrete Random Variable: Takes specific values (e.g., number of cars).\n",
        "Continuous Random Variable: Takes any value within a given range (e.g., height).\n",
        "\n",
        "# Discrete random variable (e.g., number of cars)\n",
        "discrete_data = [0, 1, 2, 3, 4, 5]\n",
        "\n",
        "# Continuous random variable (e.g., height)\n",
        "height_data = np.random.uniform(150, 190, 1000)\n",
        "\n",
        "# Calculating mean for discrete and continuous\n",
        "discrete_mean = np.mean(discrete_data)\n",
        "height_mean = np.mean(height_data)\n",
        "\n",
        "print(f\"Discrete Mean: {discrete_mean}, Continuous Mean: {height_mean}\")"
      ],
      "metadata": {
        "id": "Pkcpj9qy0aj0"
      }
    },
    {
      "cell_type": "code",
      "source": [
        "# Provide an example dataset, calculate both covariance and correlation, and interpret the results."
      ],
      "metadata": {
        "id": "8MaaOHZX0k5W"
      },
      "execution_count": null,
      "outputs": []
    },
    {
      "cell_type": "markdown",
      "source": [
        "Covariance and Correlation\n",
        "\n",
        "Covariance: Measures how two variables change together.\n",
        "Positive covariance indicates that both variables increase together.\n",
        "Negative covariance indicates that one variable increases as the other decreases.\n",
        "Correlation: Standardized measure of the strength and direction of the relationship between two variables.\n",
        "\n",
        "# Example datasets\n",
        "X = [1, 2, 3, 4, 5]\n",
        "Y = [5, 4, 3, 2, 1]\n",
        "\n",
        "# Covariance\n",
        "covariance_value = np.cov(X, Y)[0, 1]\n",
        "\n",
        "# Correlation\n",
        "correlation_value = np.corrcoef(X, Y)[0, 1]\n",
        "\n",
        "print(f\"Covariance: {covariance_value}, Correlation: {correlation_value}\")"
      ],
      "metadata": {
        "id": "-bDr5DZ10qUl"
      }
    }
  ]
}